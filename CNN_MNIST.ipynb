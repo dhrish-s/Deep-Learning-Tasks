{
  "metadata": {
    "colab": {
      "provenance": []
    },
    "kernelspec": {
      "display_name": "Python 3",
      "language": "python",
      "name": "python3"
    },
    "language_info": {
      "name": "python",
      "version": "3.7.12",
      "mimetype": "text/x-python",
      "codemirror_mode": {
        "name": "ipython",
        "version": 3
      },
      "pygments_lexer": "ipython3",
      "nbconvert_exporter": "python",
      "file_extension": ".py"
    }
  },
  "nbformat_minor": 0,
  "nbformat": 4,
  "cells": [
    {
      "cell_type": "code",
      "source": [
        "import tensorflow as tf\n",
        "import pandas as pd\n",
        "import numpy as np\n",
        "from tensorflow import keras\n",
        "from tensorflow.keras.models import Sequential\n",
        "from tensorflow.keras.layers import Dense,Conv2D,Flatten,MaxPooling2D,Dropout\n",
        "from tensorflow.keras.optimizers import Adam,SGD"
      ],
      "metadata": {
        "id": "zk8syVlAGrYf",
        "execution": {
          "iopub.status.busy": "2023-04-03T07:11:14.527655Z",
          "iopub.execute_input": "2023-04-03T07:11:14.528405Z",
          "iopub.status.idle": "2023-04-03T07:11:23.169205Z",
          "shell.execute_reply.started": "2023-04-03T07:11:14.528364Z",
          "shell.execute_reply": "2023-04-03T07:11:23.167921Z"
        },
        "trusted": true
      },
      "execution_count": null,
      "outputs": []
    },
    {
      "cell_type": "code",
      "source": [
        "from keras.datasets import mnist\n",
        "(train_images,train_labels),(test_images,test_labels)=mnist.load_data()"
      ],
      "metadata": {
        "id": "34Yh0AqxIi2e",
        "execution": {
          "iopub.status.busy": "2023-04-03T07:13:01.960365Z",
          "iopub.execute_input": "2023-04-03T07:13:01.960841Z",
          "iopub.status.idle": "2023-04-03T07:13:22.036625Z",
          "shell.execute_reply.started": "2023-04-03T07:13:01.960798Z",
          "shell.execute_reply": "2023-04-03T07:13:22.034549Z"
        },
        "trusted": true,
        "colab": {
          "base_uri": "https://localhost:8080/"
        },
        "outputId": "f6893466-b83e-4b9b-d212-a82b63262570"
      },
      "execution_count": null,
      "outputs": [
        {
          "output_type": "stream",
          "name": "stdout",
          "text": [
            "Downloading data from https://storage.googleapis.com/tensorflow/tf-keras-datasets/mnist.npz\n",
            "11490434/11490434 [==============================] - 0s 0us/step\n"
          ]
        }
      ]
    },
    {
      "cell_type": "code",
      "source": [
        "from keras.utils import to_categorical\n",
        "x_train=train_images.astype('float32')/255\n",
        "x_test=test_images.astype('float32')/255\n",
        "print(train_images)\n",
        "x_train=x_train.reshape((60000,28,28,1))\n",
        "x_test=x_test.reshape((10000,28,28,1))\n",
        "print(x_train)\n",
        "#train_labels=to_categorical(train_labels)\n",
        "#test_labels=to_categorical(test_labels)\n"
      ],
      "metadata": {
        "colab": {
          "base_uri": "https://localhost:8080/"
        },
        "id": "fM2w8eO7JBnS",
        "outputId": "07f82f51-5430-4a8a-e9f0-ccebf778ae39",
        "execution": {
          "iopub.status.busy": "2023-04-03T07:11:43.571311Z",
          "iopub.status.idle": "2023-04-03T07:11:43.571959Z",
          "shell.execute_reply.started": "2023-04-03T07:11:43.571745Z",
          "shell.execute_reply": "2023-04-03T07:11:43.571770Z"
        },
        "trusted": true
      },
      "execution_count": null,
      "outputs": [
        {
          "output_type": "stream",
          "name": "stdout",
          "text": [
            "[[[0 0 0 ... 0 0 0]\n",
            "  [0 0 0 ... 0 0 0]\n",
            "  [0 0 0 ... 0 0 0]\n",
            "  ...\n",
            "  [0 0 0 ... 0 0 0]\n",
            "  [0 0 0 ... 0 0 0]\n",
            "  [0 0 0 ... 0 0 0]]\n",
            "\n",
            " [[0 0 0 ... 0 0 0]\n",
            "  [0 0 0 ... 0 0 0]\n",
            "  [0 0 0 ... 0 0 0]\n",
            "  ...\n",
            "  [0 0 0 ... 0 0 0]\n",
            "  [0 0 0 ... 0 0 0]\n",
            "  [0 0 0 ... 0 0 0]]\n",
            "\n",
            " [[0 0 0 ... 0 0 0]\n",
            "  [0 0 0 ... 0 0 0]\n",
            "  [0 0 0 ... 0 0 0]\n",
            "  ...\n",
            "  [0 0 0 ... 0 0 0]\n",
            "  [0 0 0 ... 0 0 0]\n",
            "  [0 0 0 ... 0 0 0]]\n",
            "\n",
            " ...\n",
            "\n",
            " [[0 0 0 ... 0 0 0]\n",
            "  [0 0 0 ... 0 0 0]\n",
            "  [0 0 0 ... 0 0 0]\n",
            "  ...\n",
            "  [0 0 0 ... 0 0 0]\n",
            "  [0 0 0 ... 0 0 0]\n",
            "  [0 0 0 ... 0 0 0]]\n",
            "\n",
            " [[0 0 0 ... 0 0 0]\n",
            "  [0 0 0 ... 0 0 0]\n",
            "  [0 0 0 ... 0 0 0]\n",
            "  ...\n",
            "  [0 0 0 ... 0 0 0]\n",
            "  [0 0 0 ... 0 0 0]\n",
            "  [0 0 0 ... 0 0 0]]\n",
            "\n",
            " [[0 0 0 ... 0 0 0]\n",
            "  [0 0 0 ... 0 0 0]\n",
            "  [0 0 0 ... 0 0 0]\n",
            "  ...\n",
            "  [0 0 0 ... 0 0 0]\n",
            "  [0 0 0 ... 0 0 0]\n",
            "  [0 0 0 ... 0 0 0]]]\n",
            "[[[[0.]\n",
            "   [0.]\n",
            "   [0.]\n",
            "   ...\n",
            "   [0.]\n",
            "   [0.]\n",
            "   [0.]]\n",
            "\n",
            "  [[0.]\n",
            "   [0.]\n",
            "   [0.]\n",
            "   ...\n",
            "   [0.]\n",
            "   [0.]\n",
            "   [0.]]\n",
            "\n",
            "  [[0.]\n",
            "   [0.]\n",
            "   [0.]\n",
            "   ...\n",
            "   [0.]\n",
            "   [0.]\n",
            "   [0.]]\n",
            "\n",
            "  ...\n",
            "\n",
            "  [[0.]\n",
            "   [0.]\n",
            "   [0.]\n",
            "   ...\n",
            "   [0.]\n",
            "   [0.]\n",
            "   [0.]]\n",
            "\n",
            "  [[0.]\n",
            "   [0.]\n",
            "   [0.]\n",
            "   ...\n",
            "   [0.]\n",
            "   [0.]\n",
            "   [0.]]\n",
            "\n",
            "  [[0.]\n",
            "   [0.]\n",
            "   [0.]\n",
            "   ...\n",
            "   [0.]\n",
            "   [0.]\n",
            "   [0.]]]\n",
            "\n",
            "\n",
            " [[[0.]\n",
            "   [0.]\n",
            "   [0.]\n",
            "   ...\n",
            "   [0.]\n",
            "   [0.]\n",
            "   [0.]]\n",
            "\n",
            "  [[0.]\n",
            "   [0.]\n",
            "   [0.]\n",
            "   ...\n",
            "   [0.]\n",
            "   [0.]\n",
            "   [0.]]\n",
            "\n",
            "  [[0.]\n",
            "   [0.]\n",
            "   [0.]\n",
            "   ...\n",
            "   [0.]\n",
            "   [0.]\n",
            "   [0.]]\n",
            "\n",
            "  ...\n",
            "\n",
            "  [[0.]\n",
            "   [0.]\n",
            "   [0.]\n",
            "   ...\n",
            "   [0.]\n",
            "   [0.]\n",
            "   [0.]]\n",
            "\n",
            "  [[0.]\n",
            "   [0.]\n",
            "   [0.]\n",
            "   ...\n",
            "   [0.]\n",
            "   [0.]\n",
            "   [0.]]\n",
            "\n",
            "  [[0.]\n",
            "   [0.]\n",
            "   [0.]\n",
            "   ...\n",
            "   [0.]\n",
            "   [0.]\n",
            "   [0.]]]\n",
            "\n",
            "\n",
            " [[[0.]\n",
            "   [0.]\n",
            "   [0.]\n",
            "   ...\n",
            "   [0.]\n",
            "   [0.]\n",
            "   [0.]]\n",
            "\n",
            "  [[0.]\n",
            "   [0.]\n",
            "   [0.]\n",
            "   ...\n",
            "   [0.]\n",
            "   [0.]\n",
            "   [0.]]\n",
            "\n",
            "  [[0.]\n",
            "   [0.]\n",
            "   [0.]\n",
            "   ...\n",
            "   [0.]\n",
            "   [0.]\n",
            "   [0.]]\n",
            "\n",
            "  ...\n",
            "\n",
            "  [[0.]\n",
            "   [0.]\n",
            "   [0.]\n",
            "   ...\n",
            "   [0.]\n",
            "   [0.]\n",
            "   [0.]]\n",
            "\n",
            "  [[0.]\n",
            "   [0.]\n",
            "   [0.]\n",
            "   ...\n",
            "   [0.]\n",
            "   [0.]\n",
            "   [0.]]\n",
            "\n",
            "  [[0.]\n",
            "   [0.]\n",
            "   [0.]\n",
            "   ...\n",
            "   [0.]\n",
            "   [0.]\n",
            "   [0.]]]\n",
            "\n",
            "\n",
            " ...\n",
            "\n",
            "\n",
            " [[[0.]\n",
            "   [0.]\n",
            "   [0.]\n",
            "   ...\n",
            "   [0.]\n",
            "   [0.]\n",
            "   [0.]]\n",
            "\n",
            "  [[0.]\n",
            "   [0.]\n",
            "   [0.]\n",
            "   ...\n",
            "   [0.]\n",
            "   [0.]\n",
            "   [0.]]\n",
            "\n",
            "  [[0.]\n",
            "   [0.]\n",
            "   [0.]\n",
            "   ...\n",
            "   [0.]\n",
            "   [0.]\n",
            "   [0.]]\n",
            "\n",
            "  ...\n",
            "\n",
            "  [[0.]\n",
            "   [0.]\n",
            "   [0.]\n",
            "   ...\n",
            "   [0.]\n",
            "   [0.]\n",
            "   [0.]]\n",
            "\n",
            "  [[0.]\n",
            "   [0.]\n",
            "   [0.]\n",
            "   ...\n",
            "   [0.]\n",
            "   [0.]\n",
            "   [0.]]\n",
            "\n",
            "  [[0.]\n",
            "   [0.]\n",
            "   [0.]\n",
            "   ...\n",
            "   [0.]\n",
            "   [0.]\n",
            "   [0.]]]\n",
            "\n",
            "\n",
            " [[[0.]\n",
            "   [0.]\n",
            "   [0.]\n",
            "   ...\n",
            "   [0.]\n",
            "   [0.]\n",
            "   [0.]]\n",
            "\n",
            "  [[0.]\n",
            "   [0.]\n",
            "   [0.]\n",
            "   ...\n",
            "   [0.]\n",
            "   [0.]\n",
            "   [0.]]\n",
            "\n",
            "  [[0.]\n",
            "   [0.]\n",
            "   [0.]\n",
            "   ...\n",
            "   [0.]\n",
            "   [0.]\n",
            "   [0.]]\n",
            "\n",
            "  ...\n",
            "\n",
            "  [[0.]\n",
            "   [0.]\n",
            "   [0.]\n",
            "   ...\n",
            "   [0.]\n",
            "   [0.]\n",
            "   [0.]]\n",
            "\n",
            "  [[0.]\n",
            "   [0.]\n",
            "   [0.]\n",
            "   ...\n",
            "   [0.]\n",
            "   [0.]\n",
            "   [0.]]\n",
            "\n",
            "  [[0.]\n",
            "   [0.]\n",
            "   [0.]\n",
            "   ...\n",
            "   [0.]\n",
            "   [0.]\n",
            "   [0.]]]\n",
            "\n",
            "\n",
            " [[[0.]\n",
            "   [0.]\n",
            "   [0.]\n",
            "   ...\n",
            "   [0.]\n",
            "   [0.]\n",
            "   [0.]]\n",
            "\n",
            "  [[0.]\n",
            "   [0.]\n",
            "   [0.]\n",
            "   ...\n",
            "   [0.]\n",
            "   [0.]\n",
            "   [0.]]\n",
            "\n",
            "  [[0.]\n",
            "   [0.]\n",
            "   [0.]\n",
            "   ...\n",
            "   [0.]\n",
            "   [0.]\n",
            "   [0.]]\n",
            "\n",
            "  ...\n",
            "\n",
            "  [[0.]\n",
            "   [0.]\n",
            "   [0.]\n",
            "   ...\n",
            "   [0.]\n",
            "   [0.]\n",
            "   [0.]]\n",
            "\n",
            "  [[0.]\n",
            "   [0.]\n",
            "   [0.]\n",
            "   ...\n",
            "   [0.]\n",
            "   [0.]\n",
            "   [0.]]\n",
            "\n",
            "  [[0.]\n",
            "   [0.]\n",
            "   [0.]\n",
            "   ...\n",
            "   [0.]\n",
            "   [0.]\n",
            "   [0.]]]]\n"
          ]
        }
      ]
    },
    {
      "cell_type": "code",
      "source": [
        "y_train=to_categorical(train_labels)\n",
        "y_test=to_categorical(test_labels)\n",
        "#y_train=train_labels\n",
        "#y_test=test_labels\n",
        "y_train"
      ],
      "metadata": {
        "colab": {
          "base_uri": "https://localhost:8080/"
        },
        "id": "0OKOtZK0gXon",
        "outputId": "1aeebf84-f944-48d8-ded1-7801e764284b"
      },
      "execution_count": null,
      "outputs": [
        {
          "output_type": "execute_result",
          "data": {
            "text/plain": [
              "array([[0., 0., 0., ..., 0., 0., 0.],\n",
              "       [1., 0., 0., ..., 0., 0., 0.],\n",
              "       [0., 0., 0., ..., 0., 0., 0.],\n",
              "       ...,\n",
              "       [0., 0., 0., ..., 0., 0., 0.],\n",
              "       [0., 0., 0., ..., 0., 0., 0.],\n",
              "       [0., 0., 0., ..., 0., 1., 0.]], dtype=float32)"
            ]
          },
          "metadata": {},
          "execution_count": 4
        }
      ]
    },
    {
      "cell_type": "code",
      "source": [
        "#GlorotUniform - L1\n",
        "cnn=Sequential()\n",
        "cnn.add(Conv2D(28,(3,3),activation='relu',input_shape=(28,28,1),kernel_initializer='glorot_uniform',kernel_regularizer='L1'))\n",
        "cnn.add(MaxPooling2D((2,2)))\n",
        "cnn.add(Conv2D(56,(3,3),activation='relu',kernel_initializer='glorot_uniform',kernel_regularizer='L1'))\n",
        "cnn.add(MaxPooling2D((2,2)))\n",
        "cnn.add(Dropout(0.2))\n",
        "cnn.add(Conv2D(56,(3,3),activation='relu',kernel_initializer='glorot_uniform',kernel_regularizer='L1'))\n",
        "cnn.add(Flatten())\n",
        "cnn.add(Dropout(0.2))\n",
        "cnn.add(Dense(56,activation='relu'))\n",
        "cnn.add(Dropout(0.2))\n",
        "cnn.add(Dense(10,activation='softmax'))\n",
        "\n",
        "cnn.compile(optimizer='adam',loss='sparse_categorical_crossentropy',metrics=['accuracy'])\n",
        "history1=cnn.fit(train_images,train_labels,epochs=10,batch_size=1000,validation_split=0.2)\n",
        "\n",
        "test_loss,test_acc=cnn.evaluate(test_images,test_labels,verbose=2)\n",
        "print('Test accuracy:',test_acc)"
      ],
      "metadata": {
        "colab": {
          "base_uri": "https://localhost:8080/"
        },
        "id": "73nl-TgwJIca",
        "outputId": "71c79863-5a5b-443f-8777-c7c80d3b9d30"
      },
      "execution_count": null,
      "outputs": [
        {
          "output_type": "stream",
          "name": "stdout",
          "text": [
            "Epoch 1/10\n",
            "48/48 [==============================] - 64s 1s/step - loss: 18.2392 - accuracy: 0.4309 - val_loss: 13.4281 - val_accuracy: 0.8710\n",
            "Epoch 2/10\n",
            "48/48 [==============================] - 43s 908ms/step - loss: 11.3497 - accuracy: 0.8262 - val_loss: 8.9601 - val_accuracy: 0.9465\n",
            "Epoch 3/10\n",
            "48/48 [==============================] - 47s 981ms/step - loss: 7.6669 - accuracy: 0.8958 - val_loss: 6.1540 - val_accuracy: 0.9589\n",
            "Epoch 4/10\n",
            "48/48 [==============================] - 44s 912ms/step - loss: 5.3647 - accuracy: 0.9151 - val_loss: 4.3419 - val_accuracy: 0.9679\n",
            "Epoch 5/10\n",
            "48/48 [==============================] - 43s 905ms/step - loss: 3.8617 - accuracy: 0.9258 - val_loss: 3.1661 - val_accuracy: 0.9672\n",
            "Epoch 6/10\n",
            "48/48 [==============================] - 48s 984ms/step - loss: 2.8676 - accuracy: 0.9305 - val_loss: 2.3454 - val_accuracy: 0.9715\n",
            "Epoch 7/10\n",
            "48/48 [==============================] - 48s 1s/step - loss: 2.1703 - accuracy: 0.9358 - val_loss: 1.7790 - val_accuracy: 0.9716\n",
            "Epoch 8/10\n",
            "48/48 [==============================] - 44s 912ms/step - loss: 1.6937 - accuracy: 0.9369 - val_loss: 1.4129 - val_accuracy: 0.9708\n",
            "Epoch 9/10\n",
            "48/48 [==============================] - 50s 1s/step - loss: 1.3537 - accuracy: 0.9405 - val_loss: 1.1040 - val_accuracy: 0.9749\n",
            "Epoch 10/10\n",
            "48/48 [==============================] - 44s 910ms/step - loss: 1.1187 - accuracy: 0.9406 - val_loss: 0.9264 - val_accuracy: 0.9728\n",
            "313/313 - 3s - loss: 0.9180 - accuracy: 0.9741 - 3s/epoch - 9ms/step\n",
            "Test accuracy: 0.9740999937057495\n"
          ]
        }
      ]
    },
    {
      "cell_type": "code",
      "source": [
        "#GolortUniform - L2\n",
        "cnn=Sequential()\n",
        "cnn.add(Conv2D(28,(3,3),activation='relu',input_shape=(28,28,1),kernel_initializer='glorot_uniform',kernel_regularizer='L2'))\n",
        "cnn.add(MaxPooling2D((2,2)))\n",
        "cnn.add(Conv2D(56,(3,3),activation='relu',kernel_initializer='glorot_uniform',kernel_regularizer='L2'))\n",
        "cnn.add(MaxPooling2D((2,2)))\n",
        "cnn.add(Dropout(0.2))\n",
        "cnn.add(Conv2D(56,(3,3),activation='relu',kernel_initializer='glorot_uniform',kernel_regularizer='L2'))\n",
        "cnn.add(Flatten())\n",
        "cnn.add(Dropout(0.2))\n",
        "cnn.add(Dense(56,activation='relu'))\n",
        "cnn.add(Dropout(0.2))\n",
        "cnn.add(Dense(10,activation='softmax'))\n",
        "\n",
        "cnn.compile(optimizer='adam',loss='sparse_categorical_crossentropy',metrics=['accuracy'])\n",
        "history1=cnn.fit(train_images,train_labels,epochs=10,batch_size=1000,validation_split=0.2)\n",
        "\n",
        "test_loss,test_acc=cnn.evaluate(test_images,test_labels,verbose=2)\n",
        "print('Test accuracy:',test_acc)"
      ],
      "metadata": {
        "colab": {
          "base_uri": "https://localhost:8080/"
        },
        "id": "2b8_bOf3-Ffw",
        "outputId": "e0ce6028-e268-40d5-f100-bd37db426a30"
      },
      "execution_count": null,
      "outputs": [
        {
          "output_type": "stream",
          "name": "stdout",
          "text": [
            "Epoch 1/10\n",
            "48/48 [==============================] - 45s 905ms/step - loss: 4.7747 - accuracy: 0.4365 - val_loss: 1.3973 - val_accuracy: 0.8580\n",
            "Epoch 2/10\n",
            "48/48 [==============================] - 51s 1s/step - loss: 1.4541 - accuracy: 0.8156 - val_loss: 1.0103 - val_accuracy: 0.9487\n",
            "Epoch 3/10\n",
            "48/48 [==============================] - 44s 914ms/step - loss: 1.1332 - accuracy: 0.9008 - val_loss: 0.8819 - val_accuracy: 0.9670\n",
            "Epoch 4/10\n",
            "48/48 [==============================] - 43s 907ms/step - loss: 0.9763 - accuracy: 0.9310 - val_loss: 0.7971 - val_accuracy: 0.9736\n",
            "Epoch 5/10\n",
            "48/48 [==============================] - 47s 980ms/step - loss: 0.8745 - accuracy: 0.9438 - val_loss: 0.7302 - val_accuracy: 0.9786\n",
            "Epoch 6/10\n",
            "48/48 [==============================] - 43s 909ms/step - loss: 0.7938 - accuracy: 0.9530 - val_loss: 0.6711 - val_accuracy: 0.9825\n",
            "Epoch 7/10\n",
            "48/48 [==============================] - 46s 972ms/step - loss: 0.7256 - accuracy: 0.9594 - val_loss: 0.6225 - val_accuracy: 0.9837\n",
            "Epoch 8/10\n",
            "48/48 [==============================] - 43s 909ms/step - loss: 0.6703 - accuracy: 0.9632 - val_loss: 0.5807 - val_accuracy: 0.9846\n",
            "Epoch 9/10\n",
            "48/48 [==============================] - 44s 915ms/step - loss: 0.6231 - accuracy: 0.9667 - val_loss: 0.5435 - val_accuracy: 0.9850\n",
            "Epoch 10/10\n",
            "48/48 [==============================] - 45s 919ms/step - loss: 0.5798 - accuracy: 0.9701 - val_loss: 0.5073 - val_accuracy: 0.9861\n",
            "313/313 - 3s - loss: 0.5046 - accuracy: 0.9867 - 3s/epoch - 9ms/step\n",
            "Test accuracy: 0.9866999983787537\n"
          ]
        }
      ]
    },
    {
      "cell_type": "code",
      "source": [
        "#Orthogonal - L1\n",
        "cnn=Sequential()\n",
        "cnn.add(Conv2D(28,(3,3),activation='relu',input_shape=(28,28,1),kernel_initializer='orthogonal',kernel_regularizer='L1'))\n",
        "cnn.add(MaxPooling2D((2,2)))\n",
        "cnn.add(Conv2D(56,(3,3),activation='relu',kernel_initializer='orthogonal',kernel_regularizer='L1'))\n",
        "cnn.add(MaxPooling2D((2,2)))\n",
        "cnn.add(Dropout(0.2))\n",
        "cnn.add(Conv2D(56,(3,3),activation='relu',kernel_initializer='orthogonal',kernel_regularizer='L1'))\n",
        "cnn.add(Flatten())\n",
        "cnn.add(Dropout(0.2))\n",
        "cnn.add(Dense(56,activation='relu'))\n",
        "cnn.add(Dropout(0.2))\n",
        "cnn.add(Dense(10,activation='softmax'))\n",
        "\n",
        "cnn.compile(optimizer='adam',loss='sparse_categorical_crossentropy',metrics=['accuracy'])\n",
        "history1=cnn.fit(train_images,train_labels,epochs=10,batch_size=1000,validation_split=0.2)\n",
        "\n",
        "test_loss,test_acc=cnn.evaluate(test_images,test_labels,verbose=2)\n",
        "print('Test accuracy:',test_acc)"
      ],
      "metadata": {
        "colab": {
          "base_uri": "https://localhost:8080/"
        },
        "id": "yJxBbENG-Ffw",
        "outputId": "14aa1289-8be2-4fea-8e18-c465d0e46dd3"
      },
      "execution_count": null,
      "outputs": [
        {
          "output_type": "stream",
          "name": "stdout",
          "text": [
            "Epoch 1/10\n",
            "48/48 [==============================] - 48s 969ms/step - loss: 25.4152 - accuracy: 0.3240 - val_loss: 16.6206 - val_accuracy: 0.6155\n",
            "Epoch 2/10\n",
            "48/48 [==============================] - 44s 914ms/step - loss: 15.4171 - accuracy: 0.5942 - val_loss: 13.4681 - val_accuracy: 0.8721\n",
            "Epoch 3/10\n",
            "48/48 [==============================] - 44s 911ms/step - loss: 12.7513 - accuracy: 0.7869 - val_loss: 11.3734 - val_accuracy: 0.9321\n",
            "Epoch 4/10\n",
            "48/48 [==============================] - 45s 929ms/step - loss: 10.8520 - accuracy: 0.8551 - val_loss: 9.7993 - val_accuracy: 0.9498\n",
            "Epoch 5/10\n",
            "48/48 [==============================] - 52s 1s/step - loss: 9.3809 - accuracy: 0.8816 - val_loss: 8.5213 - val_accuracy: 0.9580\n",
            "Epoch 6/10\n",
            "48/48 [==============================] - 44s 912ms/step - loss: 8.1861 - accuracy: 0.8973 - val_loss: 7.4561 - val_accuracy: 0.9631\n",
            "Epoch 7/10\n",
            "48/48 [==============================] - 44s 917ms/step - loss: 7.1855 - accuracy: 0.9083 - val_loss: 6.5628 - val_accuracy: 0.9663\n",
            "Epoch 8/10\n",
            "48/48 [==============================] - 47s 965ms/step - loss: 6.3466 - accuracy: 0.9158 - val_loss: 5.8033 - val_accuracy: 0.9667\n",
            "Epoch 9/10\n",
            "48/48 [==============================] - 44s 919ms/step - loss: 5.6338 - accuracy: 0.9215 - val_loss: 5.1487 - val_accuracy: 0.9707\n",
            "Epoch 10/10\n",
            "48/48 [==============================] - 45s 941ms/step - loss: 5.0117 - accuracy: 0.9246 - val_loss: 4.5852 - val_accuracy: 0.9707\n",
            "313/313 - 3s - loss: 4.5875 - accuracy: 0.9679 - 3s/epoch - 9ms/step\n",
            "Test accuracy: 0.9678999781608582\n"
          ]
        }
      ]
    },
    {
      "cell_type": "code",
      "source": [
        "#Orthogonal - L2\n",
        "cnn=Sequential()\n",
        "cnn.add(Conv2D(28,(3,3),activation='relu',input_shape=(28,28,1),kernel_initializer='orthogonal',kernel_regularizer='L2'))\n",
        "cnn.add(MaxPooling2D((2,2)))\n",
        "cnn.add(Conv2D(56,(3,3),activation='relu',kernel_initializer='orthogonal',kernel_regularizer='L2'))\n",
        "cnn.add(MaxPooling2D((2,2)))\n",
        "cnn.add(Dropout(0.2))\n",
        "cnn.add(Conv2D(56,(3,3),activation='relu',kernel_initializer='orthogonal',kernel_regularizer='L2'))\n",
        "cnn.add(Flatten())\n",
        "cnn.add(Dropout(0.2))\n",
        "cnn.add(Dense(56,activation='relu'))\n",
        "cnn.add(Dropout(0.2))\n",
        "cnn.add(Dense(10,activation='softmax'))\n",
        "\n",
        "cnn.compile(optimizer='adam',loss='sparse_categorical_crossentropy',metrics=['accuracy'])\n",
        "history1=cnn.fit(train_images,train_labels,epochs=10,batch_size=1000,validation_split=0.2)\n",
        "\n",
        "test_loss,test_acc=cnn.evaluate(test_images,test_labels,verbose=2)\n",
        "print('Test accuracy:',test_acc)"
      ],
      "metadata": {
        "colab": {
          "base_uri": "https://localhost:8080/"
        },
        "id": "ZX04HvzhT0HL",
        "outputId": "40775b32-c899-4d0f-b205-32892c6bbac2"
      },
      "execution_count": null,
      "outputs": [
        {
          "output_type": "stream",
          "name": "stdout",
          "text": [
            "Epoch 1/10\n",
            "48/48 [==============================] - 48s 980ms/step - loss: 9.6164 - accuracy: 0.2821 - val_loss: 2.3083 - val_accuracy: 0.6373\n",
            "Epoch 2/10\n",
            "48/48 [==============================] - 43s 907ms/step - loss: 2.1724 - accuracy: 0.6708 - val_loss: 1.4110 - val_accuracy: 0.9068\n",
            "Epoch 3/10\n",
            "48/48 [==============================] - 45s 945ms/step - loss: 1.6369 - accuracy: 0.8290 - val_loss: 1.2314 - val_accuracy: 0.9443\n",
            "Epoch 4/10\n",
            "48/48 [==============================] - 44s 913ms/step - loss: 1.4274 - accuracy: 0.8770 - val_loss: 1.1397 - val_accuracy: 0.9563\n",
            "Epoch 5/10\n",
            "48/48 [==============================] - 44s 911ms/step - loss: 1.2992 - accuracy: 0.9011 - val_loss: 1.0735 - val_accuracy: 0.9613\n",
            "Epoch 6/10\n",
            "48/48 [==============================] - 46s 966ms/step - loss: 1.1900 - accuracy: 0.9213 - val_loss: 1.0051 - val_accuracy: 0.9702\n",
            "Epoch 7/10\n",
            "48/48 [==============================] - 44s 910ms/step - loss: 1.1087 - accuracy: 0.9339 - val_loss: 0.9528 - val_accuracy: 0.9741\n",
            "Epoch 8/10\n",
            "48/48 [==============================] - 52s 1s/step - loss: 1.0464 - accuracy: 0.9420 - val_loss: 0.9040 - val_accuracy: 0.9780\n",
            "Epoch 9/10\n",
            "48/48 [==============================] - 43s 906ms/step - loss: 0.9830 - accuracy: 0.9492 - val_loss: 0.8639 - val_accuracy: 0.9806\n",
            "Epoch 10/10\n",
            "48/48 [==============================] - 45s 937ms/step - loss: 0.9409 - accuracy: 0.9522 - val_loss: 0.8256 - val_accuracy: 0.9824\n",
            "313/313 - 3s - loss: 0.8253 - accuracy: 0.9812 - 3s/epoch - 9ms/step\n",
            "Test accuracy: 0.9811999797821045\n"
          ]
        }
      ]
    },
    {
      "cell_type": "code",
      "source": [
        "#zeros - L1\n",
        "cnn=Sequential()\n",
        "cnn.add(Conv2D(28,(3,3),activation='relu',input_shape=(28,28,1),kernel_initializer='zeros',kernel_regularizer='L1'))\n",
        "cnn.add(MaxPooling2D((2,2)))\n",
        "cnn.add(Conv2D(56,(3,3),activation='relu',kernel_initializer='zeros',kernel_regularizer='L1'))\n",
        "cnn.add(MaxPooling2D((2,2)))\n",
        "cnn.add(Dropout(0.2))\n",
        "cnn.add(Conv2D(56,(3,3),activation='relu',kernel_initializer='zeros',kernel_regularizer='L1'))\n",
        "cnn.add(Flatten())\n",
        "cnn.add(Dropout(0.2))\n",
        "cnn.add(Dense(56,activation='relu'))\n",
        "cnn.add(Dropout(0.2))\n",
        "cnn.add(Dense(10,activation='softmax'))\n",
        "\n",
        "cnn.compile(optimizer='adam',loss='sparse_categorical_crossentropy',metrics=['accuracy'])\n",
        "history1=cnn.fit(train_images,train_labels,epochs=10,batch_size=1000,validation_split=0.2)\n",
        "\n",
        "test_loss,test_acc=cnn.evaluate(test_images,test_labels,verbose=2)\n",
        "print('Test accuracy:',test_acc)"
      ],
      "metadata": {
        "colab": {
          "base_uri": "https://localhost:8080/"
        },
        "id": "SM3zZ2y8fh_4",
        "outputId": "797dd2a8-872e-4a37-c4f0-19925ae35f96"
      },
      "execution_count": null,
      "outputs": [
        {
          "output_type": "stream",
          "name": "stdout",
          "text": [
            "Epoch 1/10\n",
            "48/48 [==============================] - 46s 924ms/step - loss: 2.3022 - accuracy: 0.1135 - val_loss: 2.3021 - val_accuracy: 0.1060\n",
            "Epoch 2/10\n",
            "48/48 [==============================] - 43s 902ms/step - loss: 2.3015 - accuracy: 0.1140 - val_loss: 2.3019 - val_accuracy: 0.1060\n",
            "Epoch 3/10\n",
            "48/48 [==============================] - 43s 906ms/step - loss: 2.3012 - accuracy: 0.1140 - val_loss: 2.3019 - val_accuracy: 0.1060\n",
            "Epoch 4/10\n",
            "48/48 [==============================] - 47s 972ms/step - loss: 2.3011 - accuracy: 0.1140 - val_loss: 2.3019 - val_accuracy: 0.1060\n",
            "Epoch 5/10\n",
            "48/48 [==============================] - 46s 952ms/step - loss: 2.3010 - accuracy: 0.1140 - val_loss: 2.3020 - val_accuracy: 0.1060\n",
            "Epoch 6/10\n",
            "48/48 [==============================] - 43s 899ms/step - loss: 2.3010 - accuracy: 0.1140 - val_loss: 2.3020 - val_accuracy: 0.1060\n",
            "Epoch 7/10\n",
            "48/48 [==============================] - 43s 894ms/step - loss: 2.3010 - accuracy: 0.1140 - val_loss: 2.3021 - val_accuracy: 0.1060\n",
            "Epoch 8/10\n",
            "48/48 [==============================] - 44s 930ms/step - loss: 2.3010 - accuracy: 0.1140 - val_loss: 2.3021 - val_accuracy: 0.1060\n",
            "Epoch 9/10\n",
            "48/48 [==============================] - 46s 959ms/step - loss: 2.3010 - accuracy: 0.1140 - val_loss: 2.3021 - val_accuracy: 0.1060\n",
            "Epoch 10/10\n",
            "48/48 [==============================] - 51s 1s/step - loss: 2.3010 - accuracy: 0.1140 - val_loss: 2.3021 - val_accuracy: 0.1060\n",
            "313/313 - 3s - loss: 2.3010 - accuracy: 0.1135 - 3s/epoch - 9ms/step\n",
            "Test accuracy: 0.11349999904632568\n"
          ]
        }
      ]
    },
    {
      "cell_type": "code",
      "source": [
        "#zeros - L2\n",
        "cnn=Sequential()\n",
        "cnn.add(Conv2D(28,(3,3),activation='relu',input_shape=(28,28,1),kernel_initializer='zeros',kernel_regularizer='L2'))\n",
        "cnn.add(MaxPooling2D((2,2)))\n",
        "cnn.add(Conv2D(56,(3,3),activation='relu',kernel_initializer='zeros',kernel_regularizer='L2'))\n",
        "cnn.add(MaxPooling2D((2,2)))\n",
        "cnn.add(Dropout(0.2))\n",
        "cnn.add(Conv2D(56,(3,3),activation='relu',kernel_initializer='zeros',kernel_regularizer='L2'))\n",
        "cnn.add(Flatten())\n",
        "cnn.add(Dropout(0.2))\n",
        "cnn.add(Dense(56,activation='relu'))\n",
        "cnn.add(Dropout(0.2))\n",
        "cnn.add(Dense(10,activation='softmax'))\n",
        "\n",
        "cnn.compile(optimizer='adam',loss='sparse_categorical_crossentropy',metrics=['accuracy'])\n",
        "history1=cnn.fit(train_images,train_labels,epochs=10,batch_size=1000,validation_split=0.2)\n",
        "\n",
        "test_loss,test_acc=cnn.evaluate(test_images,test_labels,verbose=2)\n",
        "print('Test accuracy:',test_acc)"
      ],
      "metadata": {
        "colab": {
          "base_uri": "https://localhost:8080/"
        },
        "id": "RjIjFJzUf9HM",
        "outputId": "d0c24090-19f5-4acd-8f96-098ebd56ba5d"
      },
      "execution_count": null,
      "outputs": [
        {
          "output_type": "stream",
          "name": "stdout",
          "text": [
            "Epoch 1/10\n",
            "48/48 [==============================] - 47s 964ms/step - loss: 2.3022 - accuracy: 0.1130 - val_loss: 2.3021 - val_accuracy: 0.1060\n",
            "Epoch 2/10\n",
            "48/48 [==============================] - 44s 911ms/step - loss: 2.3015 - accuracy: 0.1140 - val_loss: 2.3019 - val_accuracy: 0.1060\n",
            "Epoch 3/10\n",
            "48/48 [==============================] - 43s 901ms/step - loss: 2.3012 - accuracy: 0.1140 - val_loss: 2.3019 - val_accuracy: 0.1060\n",
            "Epoch 4/10\n",
            "48/48 [==============================] - 46s 946ms/step - loss: 2.3011 - accuracy: 0.1140 - val_loss: 2.3019 - val_accuracy: 0.1060\n",
            "Epoch 5/10\n",
            "48/48 [==============================] - 43s 895ms/step - loss: 2.3010 - accuracy: 0.1140 - val_loss: 2.3020 - val_accuracy: 0.1060\n",
            "Epoch 6/10\n",
            "48/48 [==============================] - 45s 949ms/step - loss: 2.3010 - accuracy: 0.1140 - val_loss: 2.3020 - val_accuracy: 0.1060\n",
            "Epoch 7/10\n",
            "48/48 [==============================] - 43s 896ms/step - loss: 2.3010 - accuracy: 0.1140 - val_loss: 2.3021 - val_accuracy: 0.1060\n",
            "Epoch 8/10\n",
            "48/48 [==============================] - 43s 893ms/step - loss: 2.3010 - accuracy: 0.1140 - val_loss: 2.3021 - val_accuracy: 0.1060\n",
            "Epoch 9/10\n",
            "48/48 [==============================] - 47s 981ms/step - loss: 2.3010 - accuracy: 0.1140 - val_loss: 2.3021 - val_accuracy: 0.1060\n",
            "Epoch 10/10\n",
            "48/48 [==============================] - 43s 890ms/step - loss: 2.3010 - accuracy: 0.1140 - val_loss: 2.3021 - val_accuracy: 0.1060\n",
            "313/313 - 3s - loss: 2.3010 - accuracy: 0.1135 - 3s/epoch - 9ms/step\n",
            "Test accuracy: 0.11349999904632568\n"
          ]
        }
      ]
    },
    {
      "cell_type": "code",
      "source": [],
      "metadata": {
        "id": "fZ-0UzRygQ4P"
      },
      "execution_count": null,
      "outputs": []
    },
    {
      "cell_type": "code",
      "source": [
        "y_pred=np.round(y_pred)"
      ],
      "metadata": {
        "colab": {
          "base_uri": "https://localhost:8080/"
        },
        "id": "H7TqsRfqjIco",
        "outputId": "70760705-e4ea-4f09-8e8a-7b254fcd8be1"
      },
      "execution_count": null,
      "outputs": [
        {
          "execution_count": 26,
          "output_type": "execute_result",
          "data": {
            "text/plain": [
              "array([[0.11045607, 0.11700821, 0.09262078, ..., 0.10554646, 0.10023309,\n",
              "        0.09451049],\n",
              "       [0.11233509, 0.11641664, 0.09290677, ..., 0.10313841, 0.0999195 ,\n",
              "        0.0942086 ],\n",
              "       [0.11013671, 0.11900863, 0.09252157, ..., 0.10491689, 0.09977479,\n",
              "        0.09442116],\n",
              "       ...,\n",
              "       [0.1099337 , 0.11652096, 0.09228905, ..., 0.10415909, 0.10006519,\n",
              "        0.09402449],\n",
              "       [0.1109815 , 0.11527959, 0.09184102, ..., 0.10289025, 0.10021061,\n",
              "        0.09482065],\n",
              "       [0.11229502, 0.11672255, 0.09265729, ..., 0.10261215, 0.09915321,\n",
              "        0.09381711]], dtype=float32)"
            ]
          },
          "metadata": {}
        }
      ]
    },
    {
      "cell_type": "code",
      "source": [
        "y_classes[0]"
      ],
      "metadata": {
        "colab": {
          "base_uri": "https://localhost:8080/"
        },
        "id": "KdAYD7pqXj0l",
        "outputId": "0aebef06-1d31-4e8c-fcc1-8b6284b09e64"
      },
      "execution_count": null,
      "outputs": [
        {
          "execution_count": 71,
          "output_type": "execute_result",
          "data": {
            "text/plain": [
              "1"
            ]
          },
          "metadata": {}
        }
      ]
    },
    {
      "cell_type": "code",
      "source": [
        "import matplotlib.pyplot as plt\n",
        "train_loss=history1.history['accuracy']\n",
        "val_loss=history1.history['val_accuracy']\n",
        "plt.plot(train_loss,label='Training accuracy')\n",
        "plt.plot(val_loss,label='Validation accuracy')\n",
        "plt.xlabel('Epoch')\n",
        "plt.ylabel('Accuracy')\n",
        "plt.legend()\n",
        "plt.show()"
      ],
      "metadata": {
        "colab": {
          "base_uri": "https://localhost:8080/",
          "height": 279
        },
        "id": "hmKjbXQvWicf",
        "outputId": "5377ff90-3f11-4476-fa59-7206d7a882de"
      },
      "execution_count": null,
      "outputs": [
        {
          "output_type": "display_data",
          "data": {
            "image/png": "[encoded data removed]",
            "text/plain": [
              "<Figure size 432x288 with 1 Axes>"
            ]
          },
          "metadata": {
            "needs_background": "light"
          }
        }
      ]
    },
    {
      "cell_type": "code",
      "source": [
        "import matplotlib.pyplot as plt\n",
        "train_loss=history1.history['loss']\n",
        "val_loss=history1.history['val_loss']\n",
        "plt.plot(train_loss,label='training loss')\n",
        "plt.plot(val_loss,label='Validation loss')\n",
        "plt.xlabel('Epoch')\n",
        "plt.ylabel('Loss')\n",
        "plt.legend()\n",
        "plt.show()"
      ],
      "metadata": {
        "colab": {
          "base_uri": "https://localhost:8080/",
          "height": 283
        },
        "id": "Mf_5zS5oWNlf",
        "outputId": "111f76dc-e071-4dee-84a0-91430daee40b"
      },
      "execution_count": null,
      "outputs": [
        {
          "output_type": "display_data",
          "data": {
            "image/png": "[encoded data removed]",
            "text/plain": [
              "<Figure size 432x288 with 1 Axes>"
            ]
          },
          "metadata": {
            "needs_background": "light"
          }
        }
      ]
    },
    {
      "cell_type": "code",
      "source": [
        "import matplotlib.pyplot as plt\n",
        "train_loss=history.history['loss']\n",
        "val_loss=history.history['val_loss']\n",
        "plt.plot(train_loss,label='training loss')\n",
        "plt.plot(val_loss,label='Validation loss')\n",
        "plt.xlabel('Epoch')\n",
        "plt.ylabel('Loss')\n",
        "plt.legend()\n",
        "plt.show()"
      ],
      "metadata": {
        "colab": {
          "base_uri": "https://localhost:8080/",
          "height": 283
        },
        "id": "XsuMQ810jTVP",
        "outputId": "730a800b-173f-4bd0-f0f4-fcca1576192a"
      },
      "execution_count": null,
      "outputs": [
        {
          "output_type": "display_data",
          "data": {
            "image/png": "[encoded data removed]",
            "text/plain": [
              "<Figure size 432x288 with 1 Axes>"
            ]
          },
          "metadata": {
            "needs_background": "light"
          }
        }
      ]
    },
    {
      "cell_type": "code",
      "source": [],
      "metadata": {
        "id": "ilmD4RhWj2RZ"
      },
      "execution_count": null,
      "outputs": []
    },
    {
      "cell_type": "code",
      "source": [],
      "metadata": {
        "id": "YIpyH6L3HHRP"
      },
      "execution_count": null,
      "outputs": []
    }
  ]
}